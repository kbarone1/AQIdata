{
 "cells": [
  {
   "cell_type": "code",
   "execution_count": 1,
   "metadata": {},
   "outputs": [],
   "source": [
    "import pandas as pd\n",
    "import glob\n",
    "import numpy as np\n",
    "from matplotlib import pyplot as plt\n",
    "import datetime\n",
    "from sklearn.linear_model import LinearRegression"
   ]
  },
  {
   "cell_type": "code",
   "execution_count": 2,
   "metadata": {},
   "outputs": [],
   "source": [
    "df = pd.concat([pd.read_csv(f) for f in glob.glob('*.csv')], ignore_index = True)"
   ]
  },
  {
   "cell_type": "code",
   "execution_count": 3,
   "metadata": {},
   "outputs": [],
   "source": [
    "df_sf = df[df['CBSA Code']== 41860].reset_index()"
   ]
  },
  {
   "cell_type": "code",
   "execution_count": 4,
   "metadata": {},
   "outputs": [
    {
     "data": {
      "text/html": [
       "<div>\n",
       "<style scoped>\n",
       "    .dataframe tbody tr th:only-of-type {\n",
       "        vertical-align: middle;\n",
       "    }\n",
       "\n",
       "    .dataframe tbody tr th {\n",
       "        vertical-align: top;\n",
       "    }\n",
       "\n",
       "    .dataframe thead th {\n",
       "        text-align: right;\n",
       "    }\n",
       "</style>\n",
       "<table border=\"1\" class=\"dataframe\">\n",
       "  <thead>\n",
       "    <tr style=\"text-align: right;\">\n",
       "      <th></th>\n",
       "      <th>index</th>\n",
       "      <th>CBSA</th>\n",
       "      <th>CBSA Code</th>\n",
       "      <th>Date</th>\n",
       "      <th>AQI</th>\n",
       "      <th>Category</th>\n",
       "      <th>Defining Parameter</th>\n",
       "      <th>Defining Site</th>\n",
       "      <th>Number of Sites Reporting</th>\n",
       "    </tr>\n",
       "  </thead>\n",
       "  <tbody>\n",
       "    <tr>\n",
       "      <th>0</th>\n",
       "      <td>126005</td>\n",
       "      <td>San Francisco-Oakland-Hayward, CA</td>\n",
       "      <td>41860</td>\n",
       "      <td>2004-01-01</td>\n",
       "      <td>54</td>\n",
       "      <td>Moderate</td>\n",
       "      <td>PM2.5</td>\n",
       "      <td>06-081-1001</td>\n",
       "      <td>15</td>\n",
       "    </tr>\n",
       "    <tr>\n",
       "      <th>1</th>\n",
       "      <td>126006</td>\n",
       "      <td>San Francisco-Oakland-Hayward, CA</td>\n",
       "      <td>41860</td>\n",
       "      <td>2004-01-02</td>\n",
       "      <td>51</td>\n",
       "      <td>Moderate</td>\n",
       "      <td>PM2.5</td>\n",
       "      <td>06-001-0007</td>\n",
       "      <td>14</td>\n",
       "    </tr>\n",
       "    <tr>\n",
       "      <th>2</th>\n",
       "      <td>126007</td>\n",
       "      <td>San Francisco-Oakland-Hayward, CA</td>\n",
       "      <td>41860</td>\n",
       "      <td>2004-01-03</td>\n",
       "      <td>60</td>\n",
       "      <td>Moderate</td>\n",
       "      <td>PM2.5</td>\n",
       "      <td>06-001-0007</td>\n",
       "      <td>14</td>\n",
       "    </tr>\n",
       "    <tr>\n",
       "      <th>3</th>\n",
       "      <td>126008</td>\n",
       "      <td>San Francisco-Oakland-Hayward, CA</td>\n",
       "      <td>41860</td>\n",
       "      <td>2004-01-04</td>\n",
       "      <td>107</td>\n",
       "      <td>Unhealthy for Sensitive Groups</td>\n",
       "      <td>SO2</td>\n",
       "      <td>06-013-0002</td>\n",
       "      <td>15</td>\n",
       "    </tr>\n",
       "    <tr>\n",
       "      <th>4</th>\n",
       "      <td>126009</td>\n",
       "      <td>San Francisco-Oakland-Hayward, CA</td>\n",
       "      <td>41860</td>\n",
       "      <td>2004-01-05</td>\n",
       "      <td>56</td>\n",
       "      <td>Moderate</td>\n",
       "      <td>PM2.5</td>\n",
       "      <td>06-081-1001</td>\n",
       "      <td>14</td>\n",
       "    </tr>\n",
       "    <tr>\n",
       "      <th>5</th>\n",
       "      <td>126010</td>\n",
       "      <td>San Francisco-Oakland-Hayward, CA</td>\n",
       "      <td>41860</td>\n",
       "      <td>2004-01-06</td>\n",
       "      <td>94</td>\n",
       "      <td>Moderate</td>\n",
       "      <td>PM2.5</td>\n",
       "      <td>06-001-0007</td>\n",
       "      <td>14</td>\n",
       "    </tr>\n",
       "    <tr>\n",
       "      <th>6</th>\n",
       "      <td>126011</td>\n",
       "      <td>San Francisco-Oakland-Hayward, CA</td>\n",
       "      <td>41860</td>\n",
       "      <td>2004-01-07</td>\n",
       "      <td>95</td>\n",
       "      <td>Moderate</td>\n",
       "      <td>PM2.5</td>\n",
       "      <td>06-013-0002</td>\n",
       "      <td>15</td>\n",
       "    </tr>\n",
       "    <tr>\n",
       "      <th>7</th>\n",
       "      <td>126012</td>\n",
       "      <td>San Francisco-Oakland-Hayward, CA</td>\n",
       "      <td>41860</td>\n",
       "      <td>2004-01-08</td>\n",
       "      <td>93</td>\n",
       "      <td>Moderate</td>\n",
       "      <td>PM2.5</td>\n",
       "      <td>06-013-0002</td>\n",
       "      <td>14</td>\n",
       "    </tr>\n",
       "    <tr>\n",
       "      <th>8</th>\n",
       "      <td>126013</td>\n",
       "      <td>San Francisco-Oakland-Hayward, CA</td>\n",
       "      <td>41860</td>\n",
       "      <td>2004-01-09</td>\n",
       "      <td>70</td>\n",
       "      <td>Moderate</td>\n",
       "      <td>PM2.5</td>\n",
       "      <td>06-001-0007</td>\n",
       "      <td>14</td>\n",
       "    </tr>\n",
       "    <tr>\n",
       "      <th>9</th>\n",
       "      <td>126014</td>\n",
       "      <td>San Francisco-Oakland-Hayward, CA</td>\n",
       "      <td>41860</td>\n",
       "      <td>2004-01-10</td>\n",
       "      <td>65</td>\n",
       "      <td>Moderate</td>\n",
       "      <td>PM2.5</td>\n",
       "      <td>06-081-1001</td>\n",
       "      <td>15</td>\n",
       "    </tr>\n",
       "  </tbody>\n",
       "</table>\n",
       "</div>"
      ],
      "text/plain": [
       "    index                               CBSA  CBSA Code        Date  AQI  \\\n",
       "0  126005  San Francisco-Oakland-Hayward, CA      41860  2004-01-01   54   \n",
       "1  126006  San Francisco-Oakland-Hayward, CA      41860  2004-01-02   51   \n",
       "2  126007  San Francisco-Oakland-Hayward, CA      41860  2004-01-03   60   \n",
       "3  126008  San Francisco-Oakland-Hayward, CA      41860  2004-01-04  107   \n",
       "4  126009  San Francisco-Oakland-Hayward, CA      41860  2004-01-05   56   \n",
       "5  126010  San Francisco-Oakland-Hayward, CA      41860  2004-01-06   94   \n",
       "6  126011  San Francisco-Oakland-Hayward, CA      41860  2004-01-07   95   \n",
       "7  126012  San Francisco-Oakland-Hayward, CA      41860  2004-01-08   93   \n",
       "8  126013  San Francisco-Oakland-Hayward, CA      41860  2004-01-09   70   \n",
       "9  126014  San Francisco-Oakland-Hayward, CA      41860  2004-01-10   65   \n",
       "\n",
       "                         Category Defining Parameter Defining Site  \\\n",
       "0                        Moderate              PM2.5   06-081-1001   \n",
       "1                        Moderate              PM2.5   06-001-0007   \n",
       "2                        Moderate              PM2.5   06-001-0007   \n",
       "3  Unhealthy for Sensitive Groups                SO2   06-013-0002   \n",
       "4                        Moderate              PM2.5   06-081-1001   \n",
       "5                        Moderate              PM2.5   06-001-0007   \n",
       "6                        Moderate              PM2.5   06-013-0002   \n",
       "7                        Moderate              PM2.5   06-013-0002   \n",
       "8                        Moderate              PM2.5   06-001-0007   \n",
       "9                        Moderate              PM2.5   06-081-1001   \n",
       "\n",
       "   Number of Sites Reporting  \n",
       "0                         15  \n",
       "1                         14  \n",
       "2                         14  \n",
       "3                         15  \n",
       "4                         14  \n",
       "5                         14  \n",
       "6                         15  \n",
       "7                         14  \n",
       "8                         14  \n",
       "9                         15  "
      ]
     },
     "execution_count": 4,
     "metadata": {},
     "output_type": "execute_result"
    }
   ],
   "source": [
    "df_sf.head(10)"
   ]
  },
  {
   "cell_type": "code",
   "execution_count": 5,
   "metadata": {},
   "outputs": [
    {
     "name": "stdout",
     "output_type": "stream",
     "text": [
      "5723\n"
     ]
    }
   ],
   "source": [
    "print(len(df_sf))"
   ]
  },
  {
   "cell_type": "code",
   "execution_count": 6,
   "metadata": {},
   "outputs": [],
   "source": [
    "df_sf = df[df['CBSA Code']== 41860].reset_index()"
   ]
  },
  {
   "cell_type": "code",
   "execution_count": 7,
   "metadata": {},
   "outputs": [],
   "source": [
    "df_sf['Date'] = pd.to_datetime(df_sf['Date'], format = '%Y-%m-%d')"
   ]
  },
  {
   "cell_type": "code",
   "execution_count": 8,
   "metadata": {},
   "outputs": [],
   "source": [
    "df_sf['Year'] = pd.DatetimeIndex(df_sf['Date']).year"
   ]
  },
  {
   "cell_type": "code",
   "execution_count": 9,
   "metadata": {},
   "outputs": [],
   "source": [
    "df_sf['Month'] = pd.DatetimeIndex(df_sf['Date']).month"
   ]
  },
  {
   "cell_type": "code",
   "execution_count": 10,
   "metadata": {},
   "outputs": [],
   "source": [
    "df_sf['month_year'] = pd.to_datetime(df_sf['Date']).dt.to_period('M')"
   ]
  },
  {
   "cell_type": "code",
   "execution_count": 11,
   "metadata": {},
   "outputs": [],
   "source": [
    "df_sf['ordinal'] = pd.to_datetime(df_sf['Date']).apply(lambda date: date.toordinal())"
   ]
  },
  {
   "cell_type": "code",
   "execution_count": null,
   "metadata": {},
   "outputs": [],
   "source": []
  },
  {
   "cell_type": "code",
   "execution_count": 12,
   "metadata": {},
   "outputs": [
    {
     "data": {
      "text/html": [
       "<div>\n",
       "<style scoped>\n",
       "    .dataframe tbody tr th:only-of-type {\n",
       "        vertical-align: middle;\n",
       "    }\n",
       "\n",
       "    .dataframe tbody tr th {\n",
       "        vertical-align: top;\n",
       "    }\n",
       "\n",
       "    .dataframe thead th {\n",
       "        text-align: right;\n",
       "    }\n",
       "</style>\n",
       "<table border=\"1\" class=\"dataframe\">\n",
       "  <thead>\n",
       "    <tr style=\"text-align: right;\">\n",
       "      <th></th>\n",
       "      <th>index</th>\n",
       "      <th>CBSA</th>\n",
       "      <th>CBSA Code</th>\n",
       "      <th>Date</th>\n",
       "      <th>AQI</th>\n",
       "      <th>Category</th>\n",
       "      <th>Defining Parameter</th>\n",
       "      <th>Defining Site</th>\n",
       "      <th>Number of Sites Reporting</th>\n",
       "      <th>Year</th>\n",
       "      <th>Month</th>\n",
       "      <th>month_year</th>\n",
       "      <th>ordinal</th>\n",
       "    </tr>\n",
       "  </thead>\n",
       "  <tbody>\n",
       "    <tr>\n",
       "      <th>0</th>\n",
       "      <td>126005</td>\n",
       "      <td>San Francisco-Oakland-Hayward, CA</td>\n",
       "      <td>41860</td>\n",
       "      <td>2004-01-01</td>\n",
       "      <td>54</td>\n",
       "      <td>Moderate</td>\n",
       "      <td>PM2.5</td>\n",
       "      <td>06-081-1001</td>\n",
       "      <td>15</td>\n",
       "      <td>2004</td>\n",
       "      <td>1</td>\n",
       "      <td>2004-01</td>\n",
       "      <td>731581</td>\n",
       "    </tr>\n",
       "    <tr>\n",
       "      <th>1</th>\n",
       "      <td>126006</td>\n",
       "      <td>San Francisco-Oakland-Hayward, CA</td>\n",
       "      <td>41860</td>\n",
       "      <td>2004-01-02</td>\n",
       "      <td>51</td>\n",
       "      <td>Moderate</td>\n",
       "      <td>PM2.5</td>\n",
       "      <td>06-001-0007</td>\n",
       "      <td>14</td>\n",
       "      <td>2004</td>\n",
       "      <td>1</td>\n",
       "      <td>2004-01</td>\n",
       "      <td>731582</td>\n",
       "    </tr>\n",
       "    <tr>\n",
       "      <th>2</th>\n",
       "      <td>126007</td>\n",
       "      <td>San Francisco-Oakland-Hayward, CA</td>\n",
       "      <td>41860</td>\n",
       "      <td>2004-01-03</td>\n",
       "      <td>60</td>\n",
       "      <td>Moderate</td>\n",
       "      <td>PM2.5</td>\n",
       "      <td>06-001-0007</td>\n",
       "      <td>14</td>\n",
       "      <td>2004</td>\n",
       "      <td>1</td>\n",
       "      <td>2004-01</td>\n",
       "      <td>731583</td>\n",
       "    </tr>\n",
       "    <tr>\n",
       "      <th>3</th>\n",
       "      <td>126008</td>\n",
       "      <td>San Francisco-Oakland-Hayward, CA</td>\n",
       "      <td>41860</td>\n",
       "      <td>2004-01-04</td>\n",
       "      <td>107</td>\n",
       "      <td>Unhealthy for Sensitive Groups</td>\n",
       "      <td>SO2</td>\n",
       "      <td>06-013-0002</td>\n",
       "      <td>15</td>\n",
       "      <td>2004</td>\n",
       "      <td>1</td>\n",
       "      <td>2004-01</td>\n",
       "      <td>731584</td>\n",
       "    </tr>\n",
       "    <tr>\n",
       "      <th>4</th>\n",
       "      <td>126009</td>\n",
       "      <td>San Francisco-Oakland-Hayward, CA</td>\n",
       "      <td>41860</td>\n",
       "      <td>2004-01-05</td>\n",
       "      <td>56</td>\n",
       "      <td>Moderate</td>\n",
       "      <td>PM2.5</td>\n",
       "      <td>06-081-1001</td>\n",
       "      <td>14</td>\n",
       "      <td>2004</td>\n",
       "      <td>1</td>\n",
       "      <td>2004-01</td>\n",
       "      <td>731585</td>\n",
       "    </tr>\n",
       "  </tbody>\n",
       "</table>\n",
       "</div>"
      ],
      "text/plain": [
       "    index                               CBSA  CBSA Code       Date  AQI  \\\n",
       "0  126005  San Francisco-Oakland-Hayward, CA      41860 2004-01-01   54   \n",
       "1  126006  San Francisco-Oakland-Hayward, CA      41860 2004-01-02   51   \n",
       "2  126007  San Francisco-Oakland-Hayward, CA      41860 2004-01-03   60   \n",
       "3  126008  San Francisco-Oakland-Hayward, CA      41860 2004-01-04  107   \n",
       "4  126009  San Francisco-Oakland-Hayward, CA      41860 2004-01-05   56   \n",
       "\n",
       "                         Category Defining Parameter Defining Site  \\\n",
       "0                        Moderate              PM2.5   06-081-1001   \n",
       "1                        Moderate              PM2.5   06-001-0007   \n",
       "2                        Moderate              PM2.5   06-001-0007   \n",
       "3  Unhealthy for Sensitive Groups                SO2   06-013-0002   \n",
       "4                        Moderate              PM2.5   06-081-1001   \n",
       "\n",
       "   Number of Sites Reporting  Year  Month month_year  ordinal  \n",
       "0                         15  2004      1    2004-01   731581  \n",
       "1                         14  2004      1    2004-01   731582  \n",
       "2                         14  2004      1    2004-01   731583  \n",
       "3                         15  2004      1    2004-01   731584  \n",
       "4                         14  2004      1    2004-01   731585  "
      ]
     },
     "execution_count": 12,
     "metadata": {},
     "output_type": "execute_result"
    }
   ],
   "source": [
    "df_sf.head()"
   ]
  },
  {
   "cell_type": "code",
   "execution_count": 22,
   "metadata": {},
   "outputs": [],
   "source": [
    "df_sf_month = df_sf.groupby(['Year','Month','month_year']).AQI.mean().reset_index()"
   ]
  },
  {
   "cell_type": "code",
   "execution_count": null,
   "metadata": {},
   "outputs": [],
   "source": []
  },
  {
   "cell_type": "code",
   "execution_count": 23,
   "metadata": {},
   "outputs": [
    {
     "data": {
      "text/html": [
       "<div>\n",
       "<style scoped>\n",
       "    .dataframe tbody tr th:only-of-type {\n",
       "        vertical-align: middle;\n",
       "    }\n",
       "\n",
       "    .dataframe tbody tr th {\n",
       "        vertical-align: top;\n",
       "    }\n",
       "\n",
       "    .dataframe thead th {\n",
       "        text-align: right;\n",
       "    }\n",
       "</style>\n",
       "<table border=\"1\" class=\"dataframe\">\n",
       "  <thead>\n",
       "    <tr style=\"text-align: right;\">\n",
       "      <th></th>\n",
       "      <th>Year</th>\n",
       "      <th>Month</th>\n",
       "      <th>month_year</th>\n",
       "      <th>AQI</th>\n",
       "    </tr>\n",
       "  </thead>\n",
       "  <tbody>\n",
       "    <tr>\n",
       "      <th>0</th>\n",
       "      <td>2004</td>\n",
       "      <td>1</td>\n",
       "      <td>2004-01</td>\n",
       "      <td>76.322581</td>\n",
       "    </tr>\n",
       "    <tr>\n",
       "      <th>1</th>\n",
       "      <td>2004</td>\n",
       "      <td>2</td>\n",
       "      <td>2004-02</td>\n",
       "      <td>49.620690</td>\n",
       "    </tr>\n",
       "    <tr>\n",
       "      <th>2</th>\n",
       "      <td>2004</td>\n",
       "      <td>3</td>\n",
       "      <td>2004-03</td>\n",
       "      <td>53.258065</td>\n",
       "    </tr>\n",
       "    <tr>\n",
       "      <th>3</th>\n",
       "      <td>2004</td>\n",
       "      <td>4</td>\n",
       "      <td>2004-04</td>\n",
       "      <td>54.833333</td>\n",
       "    </tr>\n",
       "    <tr>\n",
       "      <th>4</th>\n",
       "      <td>2004</td>\n",
       "      <td>5</td>\n",
       "      <td>2004-05</td>\n",
       "      <td>46.903226</td>\n",
       "    </tr>\n",
       "  </tbody>\n",
       "</table>\n",
       "</div>"
      ],
      "text/plain": [
       "   Year  Month month_year        AQI\n",
       "0  2004      1    2004-01  76.322581\n",
       "1  2004      2    2004-02  49.620690\n",
       "2  2004      3    2004-03  53.258065\n",
       "3  2004      4    2004-04  54.833333\n",
       "4  2004      5    2004-05  46.903226"
      ]
     },
     "execution_count": 23,
     "metadata": {},
     "output_type": "execute_result"
    }
   ],
   "source": [
    "df_sf_month.head()"
   ]
  },
  {
   "cell_type": "code",
   "execution_count": null,
   "metadata": {},
   "outputs": [],
   "source": []
  },
  {
   "cell_type": "code",
   "execution_count": 24,
   "metadata": {},
   "outputs": [],
   "source": [
    "sf_before = df_sf[df_sf['Year'] < 2012]"
   ]
  },
  {
   "cell_type": "code",
   "execution_count": 25,
   "metadata": {},
   "outputs": [],
   "source": [
    "sf_after = df_sf[df_sf['Year']>= 2012]"
   ]
  },
  {
   "cell_type": "code",
   "execution_count": null,
   "metadata": {},
   "outputs": [],
   "source": []
  },
  {
   "cell_type": "code",
   "execution_count": null,
   "metadata": {},
   "outputs": [],
   "source": []
  },
  {
   "cell_type": "code",
   "execution_count": 27,
   "metadata": {},
   "outputs": [],
   "source": [
    "sf_before_avg = sf_before.groupby('month_year').AQI.mean().reset_index()\n",
    "sf_after_avg = sf_after.groupby('month_year').AQI.mean().reset_index()"
   ]
  },
  {
   "cell_type": "code",
   "execution_count": 35,
   "metadata": {},
   "outputs": [],
   "source": [
    "before_x = np.array(range(len(sf_before_avg)))\n",
    "after_x = np.array(range(len(sf_after_avg)))"
   ]
  },
  {
   "cell_type": "code",
   "execution_count": null,
   "metadata": {},
   "outputs": [],
   "source": []
  },
  {
   "cell_type": "code",
   "execution_count": 37,
   "metadata": {},
   "outputs": [],
   "source": [
    "before_x = before_x.reshape(-1,1)\n",
    "after_x = after_x.reshape(-1,1)"
   ]
  },
  {
   "cell_type": "code",
   "execution_count": null,
   "metadata": {},
   "outputs": [],
   "source": []
  },
  {
   "cell_type": "code",
   "execution_count": 40,
   "metadata": {},
   "outputs": [],
   "source": [
    "before_model = LinearRegression() \n",
    "before_model.fit(before_x, sf_before_avg['AQI']) \n",
    "before_pred = before_model.predict(before_x)"
   ]
  },
  {
   "cell_type": "code",
   "execution_count": 42,
   "metadata": {},
   "outputs": [],
   "source": [
    "after_model = LinearRegression()\n",
    "after_model.fit(after_x, sf_after_avg['AQI'])\n",
    "after_pred = after_model.predict(after_x)"
   ]
  },
  {
   "cell_type": "code",
   "execution_count": 52,
   "metadata": {},
   "outputs": [
    {
     "data": {
      "image/png": "[encoded data removed]",
      "text/plain": [
       "<matplotlib.figure.Figure at 0x110db67f0>"
      ]
     },
     "metadata": {},
     "output_type": "display_data"
    }
   ],
   "source": [
    "plt.subplot(1,2,1)\n",
    "plt.scatter(before_x, sf_before_avg['AQI'], alpha = 0.6)\n",
    "plt.plot(before_x, before_pred, color = 'orange')\n",
    "plt.ylim(40, 80)\n",
    "plt.subplot(1,2,2)\n",
    "plt.scatter(after_x, sf_after_avg['AQI'], alpha = 0.6)\n",
    "plt.plot(after_x, after_pred, color = 'orange')\n",
    "plt.ylim(40, 80)\n",
    "plt.show()\n",
    "plt.show()\n"
   ]
  },
  {
   "cell_type": "code",
   "execution_count": null,
   "metadata": {},
   "outputs": [],
   "source": []
  },
  {
   "cell_type": "code",
   "execution_count": null,
   "metadata": {},
   "outputs": [],
   "source": []
  },
  {
   "cell_type": "code",
   "execution_count": null,
   "metadata": {},
   "outputs": [],
   "source": []
  },
  {
   "cell_type": "code",
   "execution_count": null,
   "metadata": {},
   "outputs": [],
   "source": []
  },
  {
   "cell_type": "code",
   "execution_count": null,
   "metadata": {},
   "outputs": [],
   "source": []
  },
  {
   "cell_type": "code",
   "execution_count": null,
   "metadata": {},
   "outputs": [],
   "source": []
  },
  {
   "cell_type": "code",
   "execution_count": null,
   "metadata": {},
   "outputs": [],
   "source": []
  },
  {
   "cell_type": "code",
   "execution_count": null,
   "metadata": {},
   "outputs": [],
   "source": []
  },
  {
   "cell_type": "code",
   "execution_count": 44,
   "metadata": {},
   "outputs": [
    {
     "data": {
      "image/png": "[encoded data removed]",
      "text/plain": [
       "<matplotlib.figure.Figure at 0x10ead4da0>"
      ]
     },
     "metadata": {},
     "output_type": "display_data"
    }
   ],
   "source": [
    "plt.scatter(after_x, sf_after_avg['AQI'], alpha = 0.6)\n",
    "plt.plot(after_x, after_pred, color = 'orange')\n",
    "plt.ylim(40, 80)\n",
    "plt.show()"
   ]
  },
  {
   "cell_type": "code",
   "execution_count": null,
   "metadata": {},
   "outputs": [],
   "source": []
  },
  {
   "cell_type": "code",
   "execution_count": null,
   "metadata": {},
   "outputs": [],
   "source": []
  },
  {
   "cell_type": "code",
   "execution_count": null,
   "metadata": {},
   "outputs": [],
   "source": []
  },
  {
   "cell_type": "code",
   "execution_count": null,
   "metadata": {},
   "outputs": [],
   "source": []
  },
  {
   "cell_type": "code",
   "execution_count": null,
   "metadata": {},
   "outputs": [],
   "source": []
  },
  {
   "cell_type": "code",
   "execution_count": null,
   "metadata": {},
   "outputs": [],
   "source": []
  },
  {
   "cell_type": "code",
   "execution_count": null,
   "metadata": {},
   "outputs": [],
   "source": []
  },
  {
   "cell_type": "code",
   "execution_count": null,
   "metadata": {},
   "outputs": [],
   "source": []
  },
  {
   "cell_type": "code",
   "execution_count": null,
   "metadata": {},
   "outputs": [],
   "source": []
  },
  {
   "cell_type": "code",
   "execution_count": null,
   "metadata": {},
   "outputs": [],
   "source": []
  },
  {
   "cell_type": "code",
   "execution_count": null,
   "metadata": {},
   "outputs": [],
   "source": []
  },
  {
   "cell_type": "code",
   "execution_count": null,
   "metadata": {},
   "outputs": [],
   "source": []
  },
  {
   "cell_type": "code",
   "execution_count": null,
   "metadata": {},
   "outputs": [],
   "source": [
    "plt.scatter(range(len(sf_before_avg)),sf_before_avg['AQI'])\n",
    "plt.show()"
   ]
  },
  {
   "cell_type": "code",
   "execution_count": null,
   "metadata": {},
   "outputs": [],
   "source": [
    "plt.scatter(range(len(sf_after_avg)),sf_after_avg['AQI'])\n",
    "plt.show()"
   ]
  },
  {
   "cell_type": "code",
   "execution_count": null,
   "metadata": {},
   "outputs": [],
   "source": []
  },
  {
   "cell_type": "code",
   "execution_count": null,
   "metadata": {},
   "outputs": [],
   "source": []
  },
  {
   "cell_type": "code",
   "execution_count": null,
   "metadata": {},
   "outputs": [],
   "source": []
  },
  {
   "cell_type": "code",
   "execution_count": null,
   "metadata": {},
   "outputs": [],
   "source": []
  },
  {
   "cell_type": "code",
   "execution_count": null,
   "metadata": {},
   "outputs": [],
   "source": []
  },
  {
   "cell_type": "code",
   "execution_count": null,
   "metadata": {},
   "outputs": [],
   "source": []
  },
  {
   "cell_type": "code",
   "execution_count": null,
   "metadata": {},
   "outputs": [],
   "source": []
  },
  {
   "cell_type": "code",
   "execution_count": null,
   "metadata": {},
   "outputs": [],
   "source": []
  },
  {
   "cell_type": "code",
   "execution_count": null,
   "metadata": {},
   "outputs": [],
   "source": []
  },
  {
   "cell_type": "code",
   "execution_count": null,
   "metadata": {},
   "outputs": [],
   "source": []
  },
  {
   "cell_type": "code",
   "execution_count": null,
   "metadata": {},
   "outputs": [],
   "source": []
  },
  {
   "cell_type": "code",
   "execution_count": null,
   "metadata": {},
   "outputs": [],
   "source": []
  },
  {
   "cell_type": "code",
   "execution_count": null,
   "metadata": {},
   "outputs": [],
   "source": []
  },
  {
   "cell_type": "code",
   "execution_count": null,
   "metadata": {},
   "outputs": [],
   "source": []
  },
  {
   "cell_type": "code",
   "execution_count": null,
   "metadata": {},
   "outputs": [],
   "source": []
  },
  {
   "cell_type": "code",
   "execution_count": null,
   "metadata": {},
   "outputs": [],
   "source": []
  },
  {
   "cell_type": "code",
   "execution_count": null,
   "metadata": {},
   "outputs": [],
   "source": []
  },
  {
   "cell_type": "code",
   "execution_count": null,
   "metadata": {},
   "outputs": [],
   "source": []
  },
  {
   "cell_type": "code",
   "execution_count": null,
   "metadata": {},
   "outputs": [],
   "source": []
  },
  {
   "cell_type": "code",
   "execution_count": null,
   "metadata": {},
   "outputs": [],
   "source": []
  },
  {
   "cell_type": "code",
   "execution_count": null,
   "metadata": {},
   "outputs": [],
   "source": []
  },
  {
   "cell_type": "code",
   "execution_count": null,
   "metadata": {},
   "outputs": [],
   "source": []
  },
  {
   "cell_type": "code",
   "execution_count": null,
   "metadata": {},
   "outputs": [],
   "source": []
  },
  {
   "cell_type": "code",
   "execution_count": null,
   "metadata": {},
   "outputs": [],
   "source": []
  },
  {
   "cell_type": "code",
   "execution_count": null,
   "metadata": {},
   "outputs": [],
   "source": []
  },
  {
   "cell_type": "code",
   "execution_count": null,
   "metadata": {},
   "outputs": [],
   "source": []
  },
  {
   "cell_type": "code",
   "execution_count": null,
   "metadata": {},
   "outputs": [],
   "source": []
  },
  {
   "cell_type": "code",
   "execution_count": null,
   "metadata": {},
   "outputs": [],
   "source": []
  },
  {
   "cell_type": "code",
   "execution_count": null,
   "metadata": {},
   "outputs": [],
   "source": []
  },
  {
   "cell_type": "code",
   "execution_count": null,
   "metadata": {},
   "outputs": [],
   "source": []
  },
  {
   "cell_type": "code",
   "execution_count": null,
   "metadata": {},
   "outputs": [],
   "source": []
  },
  {
   "cell_type": "code",
   "execution_count": null,
   "metadata": {},
   "outputs": [],
   "source": []
  },
  {
   "cell_type": "code",
   "execution_count": null,
   "metadata": {},
   "outputs": [],
   "source": []
  },
  {
   "cell_type": "code",
   "execution_count": null,
   "metadata": {},
   "outputs": [],
   "source": []
  },
  {
   "cell_type": "code",
   "execution_count": null,
   "metadata": {},
   "outputs": [],
   "source": []
  }
 ],
 "metadata": {
  "kernelspec": {
   "display_name": "Python 3",
   "language": "python",
   "name": "python3"
  },
  "language_info": {
   "codemirror_mode": {
    "name": "ipython",
    "version": 3
   },
   "file_extension": ".py",
   "mimetype": "text/x-python",
   "name": "python",
   "nbconvert_exporter": "python",
   "pygments_lexer": "ipython3",
   "version": "3.6.4"
  }
 },
 "nbformat": 4,
 "nbformat_minor": 2
}
